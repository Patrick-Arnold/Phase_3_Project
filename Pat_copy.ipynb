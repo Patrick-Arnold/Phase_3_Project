{
 "cells": [
  {
   "cell_type": "markdown",
   "metadata": {},
   "source": [
    "## Data Explanation"
   ]
  },
  {
   "cell_type": "markdown",
   "metadata": {},
   "source": [
    "Targets:\n",
    "- h1n1_vaccine - Whether respondent received H1N1 flu vaccine.\n",
    "- seasonal_vaccine - Whether respondent received seasonal flu vaccine.\n",
    "\n",
    "Predictors:\n",
    "- h1n1_concern - Level of concern about the H1N1 flu.\n",
    "        0 = Not at all concerned; 1 = Not very concerned; 2 = Somewhat concerned; 3 = Very concerned.\n",
    "- h1n1_knowledge - Level of knowledge about H1N1 flu.\n",
    "        0 = No knowledge; 1 = A little knowledge; 2 = A lot of knowledge.\n",
    "- behavioral_antiviral_meds - Has taken antiviral medications. (binary)\n",
    "- behavioral_avoidance - Has avoided close contact with others with flu-like symptoms. (binary)\n",
    "- behavioral_face_mask - Has bought a face mask. (binary)\n",
    "- behavioral_wash_hands - Has frequently washed hands or used hand sanitizer. (binary)\n",
    "- behavioral_large_gatherings - Has reduced time at large gatherings. (binary)\n",
    "- behavioral_outside_home - Has reduced contact with people outside of own household. (binary)\n",
    "- behavioral_touch_face - Has avoided touching eyes, nose, or mouth. (binary)\n",
    "- doctor_recc_h1n1 - H1N1 flu vaccine was recommended by doctor. (binary)\n",
    "- doctor_recc_seasonal - Seasonal flu vaccine was recommended by doctor. (binary)\n",
    "- chronic_med_condition - Has any of the following chronic medical conditions: asthma or an other lung condition, diabetes, a heart condition, a kidney condition, sickle cell anemia or other anemia, a neurological or neuromuscular condition, a liver condition, or a weakened immune system caused by a chronic illness or by medicines taken for a chronic illness. (binary)\n",
    "- child_under_6_months - Has regular close contact with a child under the age of six months. (binary)\n",
    "- health_worker - Is a healthcare worker. (binary)\n",
    "- health_insurance - Has health insurance. (binary)\n",
    "- opinion_h1n1_vacc_effective - Respondent's opinion about H1N1 vaccine effectiveness.\n",
    "        1 = Not at all effective; 2 = Not very effective; 3 = Don't know; 4 = Somewhat effective; 5 = Very effective.\n",
    "- opinion_h1n1_risk - Respondent's opinion about risk of getting sick with H1N1 flu without vaccine.\n",
    "        1 = Very Low; 2 = Somewhat low; 3 = Don't know; 4 = Somewhat high; 5 = Very high.\n",
    "- opinion_h1n1_sick_from_vacc - Respondent's worry of getting sick from taking H1N1 vaccine.\n",
    "        1 = Not at all worried; 2 = Not very worried; 3 = Don't know; 4 = Somewhat worried; 5 = Very worried.\n",
    "- opinion_seas_vacc_effective - Respondent's opinion about seasonal flu vaccine effectiveness.\n",
    "        1 = Not at all effective; 2 = Not very effective; 3 = Don't know; 4 = Somewhat effective; 5 = Very effective.\n",
    "- opinion_seas_risk - Respondent's opinion about risk of getting sick with seasonal flu without vaccine.\n",
    "        1 = Very Low; 2 = Somewhat low; 3 = Don't know; 4 = Somewhat high; 5 = Very high.\n",
    "- opinion_seas_sick_from_vacc - Respondent's worry of getting sick from taking seasonal flu vaccine.\n",
    "        1 = Not at all worried; 2 = Not very worried; 3 = Don't know; 4 = Somewhat worried; 5 = Very worried.\n",
    "- age_group - Age group of respondent. \n",
    "- education - Self-reported education level.\n",
    "- race - Race of respondent.\n",
    "- sex - Sex of respondent.\n",
    "- income_poverty - Household annual income of respondent with respect to 2008 Census poverty thresholds.\n",
    "- marital_status - Marital status of respondent.\n",
    "- rent_or_own - Housing situation of respondent.\n",
    "- employment_status - Employment status of respondent.\n",
    "- hhs_geo_region - Respondent's residence using a 10-region geographic classification defined by the U.S. Dept. of Health and Human Services. Values are represented as short random character strings.\n",
    "- census_msa - Respondent's residence within metropolitan statistical areas (MSA) as defined by the U.S. Census.\n",
    "- household_adults - Number of other adults in household, top-coded to 3.\n",
    "- household_children - Number of children in household, top-coded to 3.\n",
    "- employment_industry - Type of industry respondent is employed in. Values are represented as short random character strings.\n",
    "- employment_occupation - Type of occupation of respondent. Values are represented as short random character strings.\n"
   ]
  },
  {
   "cell_type": "markdown",
   "metadata": {},
   "source": [
    "## Import Resources"
   ]
  },
  {
   "cell_type": "code",
   "execution_count": 56,
   "metadata": {},
   "outputs": [],
   "source": [
    "import numpy as np\n",
    "import pandas as pd\n",
    "import xlrd\n",
    "import os\n",
    "import seaborn as sns\n",
    "from sklearn.model_selection import train_test_split, GridSearchCV,\\\n",
    "cross_val_score\n",
    "from sklearn.linear_model import LogisticRegression\n",
    "from sklearn.neighbors import KNeighborsClassifier\n",
    "from sklearn.tree import DecisionTreeClassifier\n",
    "from sklearn.ensemble import BaggingClassifier, RandomForestClassifier,\\\n",
    "ExtraTreesClassifier, VotingClassifier, StackingRegressor\n",
    "from sklearn.metrics import r2_score\n",
    "from sklearn.preprocessing import OneHotEncoder, MinMaxScaler\n",
    "from sklearn.impute import SimpleImputer, KNNImputer\n",
    "from sklearn.linear_model import LinearRegression\n",
    "from sklearn.neighbors import KNeighborsRegressor\n",
    "from sklearn.tree import DecisionTreeRegressor\n",
    "from sklearn.metrics import accuracy_score, precision_score\n",
    "from sklearn.pipeline import Pipeline\n",
    "from sklearn.compose import ColumnTransformer\n",
    "from sklearn.dummy import DummyClassifier\n",
    "from sklearn.feature_selection import SelectKBest, f_regression"
   ]
  },
  {
   "cell_type": "code",
   "execution_count": 2,
   "metadata": {},
   "outputs": [],
   "source": [
    "df_features = pd.read_csv('Data/training_set_features.csv')\n",
    "df_targets = pd.read_csv('Data/training_set_labels.csv')"
   ]
  },
  {
   "cell_type": "code",
   "execution_count": 3,
   "metadata": {},
   "outputs": [],
   "source": [
    "df = df_features.merge(df_targets)"
   ]
  },
  {
   "cell_type": "code",
   "execution_count": null,
   "metadata": {},
   "outputs": [],
   "source": [
    "df.columns"
   ]
  },
  {
   "cell_type": "code",
   "execution_count": null,
   "metadata": {},
   "outputs": [],
   "source": [
    "df.head()"
   ]
  },
  {
   "cell_type": "code",
   "execution_count": null,
   "metadata": {},
   "outputs": [],
   "source": [
    "df.describe()"
   ]
  },
  {
   "cell_type": "code",
   "execution_count": null,
   "metadata": {},
   "outputs": [],
   "source": [
    "df.info()"
   ]
  },
  {
   "cell_type": "code",
   "execution_count": null,
   "metadata": {},
   "outputs": [],
   "source": [
    "for c in df.columns:\n",
    "    print(\"---- %s ---\" % c)\n",
    "    print(df[c].value_counts())"
   ]
  },
  {
   "cell_type": "code",
   "execution_count": null,
   "metadata": {},
   "outputs": [],
   "source": [
    "df.corr()"
   ]
  },
  {
   "cell_type": "markdown",
   "metadata": {},
   "source": [
    "## Preprocessing"
   ]
  },
  {
   "cell_type": "code",
   "execution_count": null,
   "metadata": {},
   "outputs": [],
   "source": [
    "df.isna().sum()"
   ]
  },
  {
   "cell_type": "code",
   "execution_count": 4,
   "metadata": {},
   "outputs": [],
   "source": [
    "# Missing Data\n",
    "drop = ['respondent_id', 'doctor_recc_seasonal', 'opinion_seas_vacc_effective', 'opinion_seas_risk',\n",
    "                'opinion_seas_sick_from_vacc', 'seasonal_vaccine', 'employment_industry', 'employment_occupation']\n",
    "\n",
    "# Impute with most frequent\n",
    "most_frequent = ['h1n1_concern', 'h1n1_knowledge', 'behavioral_antiviral_meds', 'behavioral_avoidance', \n",
    "                'behavioral_face_mask', 'behavioral_wash_hands', 'behavioral_large_gatherings', \n",
    "                'behavioral_outside_home', 'behavioral_touch_face', 'doctor_recc_h1n1', 'chronic_med_condition',\n",
    "                'child_under_6_months', 'health_worker', 'health_insurance', 'opinion_h1n1_vacc_effective',\n",
    "                'opinion_h1n1_risk', 'opinion_h1n1_sick_from_vacc', 'income_poverty', 'marital_status',\n",
    "                'rent_or_own', 'employment_status', 'household_adults', 'household_children', 'education']\n",
    "\n",
    "# Encoding and scaling\n",
    "cat_cols = ['age_group', 'education', 'race', 'sex', 'income_poverty', 'marital_status', 'rent_or_own', 'employment_status',\n",
    "       'hhs_geo_region', 'census_msa']\n",
    "\n",
    "num_cols = ['h1n1_concern', 'h1n1_knowledge', 'behavioral_antiviral_meds', 'behavioral_avoidance', \n",
    "                'behavioral_face_mask', 'behavioral_wash_hands', 'behavioral_large_gatherings', \n",
    "                'behavioral_outside_home', 'behavioral_touch_face', 'doctor_recc_h1n1', 'chronic_med_condition',\n",
    "                'child_under_6_months', 'health_worker', 'health_insurance', 'opinion_h1n1_vacc_effective',\n",
    "                'opinion_h1n1_risk', 'opinion_h1n1_sick_from_vacc',\n",
    "                'household_adults', 'household_children']"
   ]
  },
  {
   "cell_type": "code",
   "execution_count": 5,
   "metadata": {},
   "outputs": [],
   "source": [
    "df = df.drop(drop, axis=1)"
   ]
  },
  {
   "cell_type": "code",
   "execution_count": 6,
   "metadata": {},
   "outputs": [],
   "source": [
    "X = df.drop('h1n1_vaccine', axis=1)\n",
    "y = df['h1n1_vaccine']\n",
    "X_train, X_test, y_train, y_test = train_test_split(X, y, test_size=0.2, random_state=42)"
   ]
  },
  {
   "cell_type": "code",
   "execution_count": 7,
   "metadata": {},
   "outputs": [],
   "source": [
    "X_train = X_train.fillna(df.mode().iloc[0])\n",
    "X_test = X_test.fillna(df.mode().iloc[0])"
   ]
  },
  {
   "cell_type": "code",
   "execution_count": 8,
   "metadata": {},
   "outputs": [],
   "source": [
    "ct = ColumnTransformer(transformers=[\n",
    "    ('ohe', OneHotEncoder(drop='first'), cat_cols),\n",
    "    ('scaler', MinMaxScaler(), num_cols)\n",
    "], remainder='passthrough')"
   ]
  },
  {
   "cell_type": "code",
   "execution_count": 9,
   "metadata": {},
   "outputs": [],
   "source": [
    "ct.fit(X_train)\n",
    "X_train_trans = ct.transform(X_train)\n",
    "X_test_trans = ct.transform(X_test)"
   ]
  },
  {
   "cell_type": "code",
   "execution_count": 10,
   "metadata": {},
   "outputs": [],
   "source": [
    "ohe_col_names = ct.named_transformers_['ohe'].get_feature_names(input_features = cat_cols)"
   ]
  },
  {
   "cell_type": "code",
   "execution_count": 11,
   "metadata": {},
   "outputs": [],
   "source": [
    "X_train_trans = pd.DataFrame(X_train_trans,\n",
    "             columns = [*ohe_col_names, *num_cols], # Using * to unpack lists\n",
    "             index = X_train.index)\n",
    "\n",
    "X_test_trans = pd.DataFrame(X_test_trans,\n",
    "             columns = [*ohe_col_names, *num_cols], # Using * to unpack lists\n",
    "             index = X_test.index)"
   ]
  },
  {
   "cell_type": "code",
   "execution_count": 12,
   "metadata": {},
   "outputs": [
    {
     "data": {
      "text/html": [
       "<div>\n",
       "<style scoped>\n",
       "    .dataframe tbody tr th:only-of-type {\n",
       "        vertical-align: middle;\n",
       "    }\n",
       "\n",
       "    .dataframe tbody tr th {\n",
       "        vertical-align: top;\n",
       "    }\n",
       "\n",
       "    .dataframe thead th {\n",
       "        text-align: right;\n",
       "    }\n",
       "</style>\n",
       "<table border=\"1\" class=\"dataframe\">\n",
       "  <thead>\n",
       "    <tr style=\"text-align: right;\">\n",
       "      <th></th>\n",
       "      <th>age_group_35 - 44 Years</th>\n",
       "      <th>age_group_45 - 54 Years</th>\n",
       "      <th>age_group_55 - 64 Years</th>\n",
       "      <th>age_group_65+ Years</th>\n",
       "      <th>education_&lt; 12 Years</th>\n",
       "      <th>education_College Graduate</th>\n",
       "      <th>education_Some College</th>\n",
       "      <th>race_Hispanic</th>\n",
       "      <th>race_Other or Multiple</th>\n",
       "      <th>race_White</th>\n",
       "      <th>...</th>\n",
       "      <th>doctor_recc_h1n1</th>\n",
       "      <th>chronic_med_condition</th>\n",
       "      <th>child_under_6_months</th>\n",
       "      <th>health_worker</th>\n",
       "      <th>health_insurance</th>\n",
       "      <th>opinion_h1n1_vacc_effective</th>\n",
       "      <th>opinion_h1n1_risk</th>\n",
       "      <th>opinion_h1n1_sick_from_vacc</th>\n",
       "      <th>household_adults</th>\n",
       "      <th>household_children</th>\n",
       "    </tr>\n",
       "  </thead>\n",
       "  <tbody>\n",
       "    <tr>\n",
       "      <th>count</th>\n",
       "      <td>21365.000000</td>\n",
       "      <td>21365.000000</td>\n",
       "      <td>21365.000000</td>\n",
       "      <td>21365.000000</td>\n",
       "      <td>21365.000000</td>\n",
       "      <td>21365.000000</td>\n",
       "      <td>21365.00000</td>\n",
       "      <td>21365.000000</td>\n",
       "      <td>21365.000000</td>\n",
       "      <td>21365.000000</td>\n",
       "      <td>...</td>\n",
       "      <td>21365.000000</td>\n",
       "      <td>21365.000000</td>\n",
       "      <td>21365.000000</td>\n",
       "      <td>21365.000000</td>\n",
       "      <td>21365.000000</td>\n",
       "      <td>21365.000000</td>\n",
       "      <td>21365.000000</td>\n",
       "      <td>21365.000000</td>\n",
       "      <td>21365.000000</td>\n",
       "      <td>21365.000000</td>\n",
       "    </tr>\n",
       "    <tr>\n",
       "      <th>mean</th>\n",
       "      <td>0.142944</td>\n",
       "      <td>0.195834</td>\n",
       "      <td>0.208799</td>\n",
       "      <td>0.255277</td>\n",
       "      <td>0.087760</td>\n",
       "      <td>0.430049</td>\n",
       "      <td>0.26520</td>\n",
       "      <td>0.066136</td>\n",
       "      <td>0.061877</td>\n",
       "      <td>0.794477</td>\n",
       "      <td>...</td>\n",
       "      <td>0.203651</td>\n",
       "      <td>0.274561</td>\n",
       "      <td>0.079616</td>\n",
       "      <td>0.110414</td>\n",
       "      <td>0.935081</td>\n",
       "      <td>0.712790</td>\n",
       "      <td>0.335174</td>\n",
       "      <td>0.338942</td>\n",
       "      <td>0.296653</td>\n",
       "      <td>0.176940</td>\n",
       "    </tr>\n",
       "    <tr>\n",
       "      <th>std</th>\n",
       "      <td>0.350024</td>\n",
       "      <td>0.396851</td>\n",
       "      <td>0.406460</td>\n",
       "      <td>0.436027</td>\n",
       "      <td>0.282953</td>\n",
       "      <td>0.495094</td>\n",
       "      <td>0.44145</td>\n",
       "      <td>0.248526</td>\n",
       "      <td>0.240937</td>\n",
       "      <td>0.404093</td>\n",
       "      <td>...</td>\n",
       "      <td>0.402722</td>\n",
       "      <td>0.446303</td>\n",
       "      <td>0.270704</td>\n",
       "      <td>0.313413</td>\n",
       "      <td>0.246389</td>\n",
       "      <td>0.250402</td>\n",
       "      <td>0.319782</td>\n",
       "      <td>0.338335</td>\n",
       "      <td>0.250323</td>\n",
       "      <td>0.308851</td>\n",
       "    </tr>\n",
       "    <tr>\n",
       "      <th>min</th>\n",
       "      <td>0.000000</td>\n",
       "      <td>0.000000</td>\n",
       "      <td>0.000000</td>\n",
       "      <td>0.000000</td>\n",
       "      <td>0.000000</td>\n",
       "      <td>0.000000</td>\n",
       "      <td>0.00000</td>\n",
       "      <td>0.000000</td>\n",
       "      <td>0.000000</td>\n",
       "      <td>0.000000</td>\n",
       "      <td>...</td>\n",
       "      <td>0.000000</td>\n",
       "      <td>0.000000</td>\n",
       "      <td>0.000000</td>\n",
       "      <td>0.000000</td>\n",
       "      <td>0.000000</td>\n",
       "      <td>0.000000</td>\n",
       "      <td>0.000000</td>\n",
       "      <td>0.000000</td>\n",
       "      <td>0.000000</td>\n",
       "      <td>0.000000</td>\n",
       "    </tr>\n",
       "    <tr>\n",
       "      <th>25%</th>\n",
       "      <td>0.000000</td>\n",
       "      <td>0.000000</td>\n",
       "      <td>0.000000</td>\n",
       "      <td>0.000000</td>\n",
       "      <td>0.000000</td>\n",
       "      <td>0.000000</td>\n",
       "      <td>0.00000</td>\n",
       "      <td>0.000000</td>\n",
       "      <td>0.000000</td>\n",
       "      <td>1.000000</td>\n",
       "      <td>...</td>\n",
       "      <td>0.000000</td>\n",
       "      <td>0.000000</td>\n",
       "      <td>0.000000</td>\n",
       "      <td>0.000000</td>\n",
       "      <td>1.000000</td>\n",
       "      <td>0.500000</td>\n",
       "      <td>0.000000</td>\n",
       "      <td>0.000000</td>\n",
       "      <td>0.000000</td>\n",
       "      <td>0.000000</td>\n",
       "    </tr>\n",
       "    <tr>\n",
       "      <th>50%</th>\n",
       "      <td>0.000000</td>\n",
       "      <td>0.000000</td>\n",
       "      <td>0.000000</td>\n",
       "      <td>0.000000</td>\n",
       "      <td>0.000000</td>\n",
       "      <td>0.000000</td>\n",
       "      <td>0.00000</td>\n",
       "      <td>0.000000</td>\n",
       "      <td>0.000000</td>\n",
       "      <td>1.000000</td>\n",
       "      <td>...</td>\n",
       "      <td>0.000000</td>\n",
       "      <td>0.000000</td>\n",
       "      <td>0.000000</td>\n",
       "      <td>0.000000</td>\n",
       "      <td>1.000000</td>\n",
       "      <td>0.750000</td>\n",
       "      <td>0.250000</td>\n",
       "      <td>0.250000</td>\n",
       "      <td>0.333333</td>\n",
       "      <td>0.000000</td>\n",
       "    </tr>\n",
       "    <tr>\n",
       "      <th>75%</th>\n",
       "      <td>0.000000</td>\n",
       "      <td>0.000000</td>\n",
       "      <td>0.000000</td>\n",
       "      <td>1.000000</td>\n",
       "      <td>0.000000</td>\n",
       "      <td>1.000000</td>\n",
       "      <td>1.00000</td>\n",
       "      <td>0.000000</td>\n",
       "      <td>0.000000</td>\n",
       "      <td>1.000000</td>\n",
       "      <td>...</td>\n",
       "      <td>0.000000</td>\n",
       "      <td>1.000000</td>\n",
       "      <td>0.000000</td>\n",
       "      <td>0.000000</td>\n",
       "      <td>1.000000</td>\n",
       "      <td>1.000000</td>\n",
       "      <td>0.750000</td>\n",
       "      <td>0.750000</td>\n",
       "      <td>0.333333</td>\n",
       "      <td>0.333333</td>\n",
       "    </tr>\n",
       "    <tr>\n",
       "      <th>max</th>\n",
       "      <td>1.000000</td>\n",
       "      <td>1.000000</td>\n",
       "      <td>1.000000</td>\n",
       "      <td>1.000000</td>\n",
       "      <td>1.000000</td>\n",
       "      <td>1.000000</td>\n",
       "      <td>1.00000</td>\n",
       "      <td>1.000000</td>\n",
       "      <td>1.000000</td>\n",
       "      <td>1.000000</td>\n",
       "      <td>...</td>\n",
       "      <td>1.000000</td>\n",
       "      <td>1.000000</td>\n",
       "      <td>1.000000</td>\n",
       "      <td>1.000000</td>\n",
       "      <td>1.000000</td>\n",
       "      <td>1.000000</td>\n",
       "      <td>1.000000</td>\n",
       "      <td>1.000000</td>\n",
       "      <td>1.000000</td>\n",
       "      <td>1.000000</td>\n",
       "    </tr>\n",
       "  </tbody>\n",
       "</table>\n",
       "<p>8 rows × 47 columns</p>\n",
       "</div>"
      ],
      "text/plain": [
       "       age_group_35 - 44 Years  age_group_45 - 54 Years  \\\n",
       "count             21365.000000             21365.000000   \n",
       "mean                  0.142944                 0.195834   \n",
       "std                   0.350024                 0.396851   \n",
       "min                   0.000000                 0.000000   \n",
       "25%                   0.000000                 0.000000   \n",
       "50%                   0.000000                 0.000000   \n",
       "75%                   0.000000                 0.000000   \n",
       "max                   1.000000                 1.000000   \n",
       "\n",
       "       age_group_55 - 64 Years  age_group_65+ Years  education_< 12 Years  \\\n",
       "count             21365.000000         21365.000000          21365.000000   \n",
       "mean                  0.208799             0.255277              0.087760   \n",
       "std                   0.406460             0.436027              0.282953   \n",
       "min                   0.000000             0.000000              0.000000   \n",
       "25%                   0.000000             0.000000              0.000000   \n",
       "50%                   0.000000             0.000000              0.000000   \n",
       "75%                   0.000000             1.000000              0.000000   \n",
       "max                   1.000000             1.000000              1.000000   \n",
       "\n",
       "       education_College Graduate  education_Some College  race_Hispanic  \\\n",
       "count                21365.000000             21365.00000   21365.000000   \n",
       "mean                     0.430049                 0.26520       0.066136   \n",
       "std                      0.495094                 0.44145       0.248526   \n",
       "min                      0.000000                 0.00000       0.000000   \n",
       "25%                      0.000000                 0.00000       0.000000   \n",
       "50%                      0.000000                 0.00000       0.000000   \n",
       "75%                      1.000000                 1.00000       0.000000   \n",
       "max                      1.000000                 1.00000       1.000000   \n",
       "\n",
       "       race_Other or Multiple    race_White  ...  doctor_recc_h1n1  \\\n",
       "count            21365.000000  21365.000000  ...      21365.000000   \n",
       "mean                 0.061877      0.794477  ...          0.203651   \n",
       "std                  0.240937      0.404093  ...          0.402722   \n",
       "min                  0.000000      0.000000  ...          0.000000   \n",
       "25%                  0.000000      1.000000  ...          0.000000   \n",
       "50%                  0.000000      1.000000  ...          0.000000   \n",
       "75%                  0.000000      1.000000  ...          0.000000   \n",
       "max                  1.000000      1.000000  ...          1.000000   \n",
       "\n",
       "       chronic_med_condition  child_under_6_months  health_worker  \\\n",
       "count           21365.000000          21365.000000   21365.000000   \n",
       "mean                0.274561              0.079616       0.110414   \n",
       "std                 0.446303              0.270704       0.313413   \n",
       "min                 0.000000              0.000000       0.000000   \n",
       "25%                 0.000000              0.000000       0.000000   \n",
       "50%                 0.000000              0.000000       0.000000   \n",
       "75%                 1.000000              0.000000       0.000000   \n",
       "max                 1.000000              1.000000       1.000000   \n",
       "\n",
       "       health_insurance  opinion_h1n1_vacc_effective  opinion_h1n1_risk  \\\n",
       "count      21365.000000                 21365.000000       21365.000000   \n",
       "mean           0.935081                     0.712790           0.335174   \n",
       "std            0.246389                     0.250402           0.319782   \n",
       "min            0.000000                     0.000000           0.000000   \n",
       "25%            1.000000                     0.500000           0.000000   \n",
       "50%            1.000000                     0.750000           0.250000   \n",
       "75%            1.000000                     1.000000           0.750000   \n",
       "max            1.000000                     1.000000           1.000000   \n",
       "\n",
       "       opinion_h1n1_sick_from_vacc  household_adults  household_children  \n",
       "count                 21365.000000      21365.000000        21365.000000  \n",
       "mean                      0.338942          0.296653            0.176940  \n",
       "std                       0.338335          0.250323            0.308851  \n",
       "min                       0.000000          0.000000            0.000000  \n",
       "25%                       0.000000          0.000000            0.000000  \n",
       "50%                       0.250000          0.333333            0.000000  \n",
       "75%                       0.750000          0.333333            0.333333  \n",
       "max                       1.000000          1.000000            1.000000  \n",
       "\n",
       "[8 rows x 47 columns]"
      ]
     },
     "execution_count": 12,
     "metadata": {},
     "output_type": "execute_result"
    }
   ],
   "source": [
    "X_train_trans.describe()"
   ]
  },
  {
   "cell_type": "code",
   "execution_count": null,
   "metadata": {},
   "outputs": [],
   "source": [
    "X_train_trans.corr()"
   ]
  },
  {
   "cell_type": "markdown",
   "metadata": {},
   "source": [
    "## Feature Selection"
   ]
  },
  {
   "cell_type": "code",
   "execution_count": 61,
   "metadata": {},
   "outputs": [],
   "source": [
    "selector = SelectKBest(score_func=f_regression, k=10)\n",
    "selector.fit(X_train_trans, y_train)\n",
    "\n",
    "# X_k_best_train = selector.transform(X_train_trans)\n",
    "# X_k_best_test = selector.transform(X_test_trans)\n",
    "\n",
    "cols = selector.get_support(indices=True)\n",
    "features_df_new = X_train_trans.iloc[:,cols]"
   ]
  },
  {
   "cell_type": "code",
   "execution_count": 62,
   "metadata": {},
   "outputs": [
    {
     "data": {
      "text/html": [
       "<div>\n",
       "<style scoped>\n",
       "    .dataframe tbody tr th:only-of-type {\n",
       "        vertical-align: middle;\n",
       "    }\n",
       "\n",
       "    .dataframe tbody tr th {\n",
       "        vertical-align: top;\n",
       "    }\n",
       "\n",
       "    .dataframe thead th {\n",
       "        text-align: right;\n",
       "    }\n",
       "</style>\n",
       "<table border=\"1\" class=\"dataframe\">\n",
       "  <thead>\n",
       "    <tr style=\"text-align: right;\">\n",
       "      <th></th>\n",
       "      <th>h1n1_concern</th>\n",
       "      <th>h1n1_knowledge</th>\n",
       "      <th>behavioral_wash_hands</th>\n",
       "      <th>behavioral_touch_face</th>\n",
       "      <th>doctor_recc_h1n1</th>\n",
       "      <th>chronic_med_condition</th>\n",
       "      <th>health_worker</th>\n",
       "      <th>opinion_h1n1_vacc_effective</th>\n",
       "      <th>opinion_h1n1_risk</th>\n",
       "      <th>opinion_h1n1_sick_from_vacc</th>\n",
       "    </tr>\n",
       "  </thead>\n",
       "  <tbody>\n",
       "    <tr>\n",
       "      <th>24706</th>\n",
       "      <td>0.666667</td>\n",
       "      <td>0.5</td>\n",
       "      <td>1.0</td>\n",
       "      <td>1.0</td>\n",
       "      <td>0.0</td>\n",
       "      <td>1.0</td>\n",
       "      <td>0.0</td>\n",
       "      <td>1.00</td>\n",
       "      <td>0.75</td>\n",
       "      <td>0.25</td>\n",
       "    </tr>\n",
       "    <tr>\n",
       "      <th>5393</th>\n",
       "      <td>0.666667</td>\n",
       "      <td>0.5</td>\n",
       "      <td>1.0</td>\n",
       "      <td>1.0</td>\n",
       "      <td>0.0</td>\n",
       "      <td>0.0</td>\n",
       "      <td>0.0</td>\n",
       "      <td>1.00</td>\n",
       "      <td>0.75</td>\n",
       "      <td>0.75</td>\n",
       "    </tr>\n",
       "    <tr>\n",
       "      <th>20898</th>\n",
       "      <td>0.000000</td>\n",
       "      <td>0.5</td>\n",
       "      <td>1.0</td>\n",
       "      <td>0.0</td>\n",
       "      <td>0.0</td>\n",
       "      <td>0.0</td>\n",
       "      <td>0.0</td>\n",
       "      <td>0.00</td>\n",
       "      <td>0.25</td>\n",
       "      <td>0.00</td>\n",
       "    </tr>\n",
       "    <tr>\n",
       "      <th>3429</th>\n",
       "      <td>0.333333</td>\n",
       "      <td>0.5</td>\n",
       "      <td>0.0</td>\n",
       "      <td>0.0</td>\n",
       "      <td>0.0</td>\n",
       "      <td>0.0</td>\n",
       "      <td>0.0</td>\n",
       "      <td>0.75</td>\n",
       "      <td>0.25</td>\n",
       "      <td>0.00</td>\n",
       "    </tr>\n",
       "    <tr>\n",
       "      <th>8731</th>\n",
       "      <td>0.333333</td>\n",
       "      <td>0.0</td>\n",
       "      <td>1.0</td>\n",
       "      <td>0.0</td>\n",
       "      <td>0.0</td>\n",
       "      <td>0.0</td>\n",
       "      <td>0.0</td>\n",
       "      <td>0.50</td>\n",
       "      <td>0.25</td>\n",
       "      <td>1.00</td>\n",
       "    </tr>\n",
       "    <tr>\n",
       "      <th>...</th>\n",
       "      <td>...</td>\n",
       "      <td>...</td>\n",
       "      <td>...</td>\n",
       "      <td>...</td>\n",
       "      <td>...</td>\n",
       "      <td>...</td>\n",
       "      <td>...</td>\n",
       "      <td>...</td>\n",
       "      <td>...</td>\n",
       "      <td>...</td>\n",
       "    </tr>\n",
       "    <tr>\n",
       "      <th>21575</th>\n",
       "      <td>0.666667</td>\n",
       "      <td>0.5</td>\n",
       "      <td>1.0</td>\n",
       "      <td>1.0</td>\n",
       "      <td>0.0</td>\n",
       "      <td>0.0</td>\n",
       "      <td>0.0</td>\n",
       "      <td>0.75</td>\n",
       "      <td>0.25</td>\n",
       "      <td>0.25</td>\n",
       "    </tr>\n",
       "    <tr>\n",
       "      <th>5390</th>\n",
       "      <td>0.333333</td>\n",
       "      <td>0.5</td>\n",
       "      <td>1.0</td>\n",
       "      <td>1.0</td>\n",
       "      <td>0.0</td>\n",
       "      <td>0.0</td>\n",
       "      <td>0.0</td>\n",
       "      <td>0.75</td>\n",
       "      <td>0.25</td>\n",
       "      <td>0.00</td>\n",
       "    </tr>\n",
       "    <tr>\n",
       "      <th>860</th>\n",
       "      <td>0.666667</td>\n",
       "      <td>0.5</td>\n",
       "      <td>0.0</td>\n",
       "      <td>1.0</td>\n",
       "      <td>0.0</td>\n",
       "      <td>0.0</td>\n",
       "      <td>0.0</td>\n",
       "      <td>0.75</td>\n",
       "      <td>0.25</td>\n",
       "      <td>0.25</td>\n",
       "    </tr>\n",
       "    <tr>\n",
       "      <th>15795</th>\n",
       "      <td>0.666667</td>\n",
       "      <td>0.5</td>\n",
       "      <td>1.0</td>\n",
       "      <td>1.0</td>\n",
       "      <td>1.0</td>\n",
       "      <td>1.0</td>\n",
       "      <td>1.0</td>\n",
       "      <td>0.00</td>\n",
       "      <td>0.00</td>\n",
       "      <td>0.75</td>\n",
       "    </tr>\n",
       "    <tr>\n",
       "      <th>23654</th>\n",
       "      <td>1.000000</td>\n",
       "      <td>0.5</td>\n",
       "      <td>1.0</td>\n",
       "      <td>1.0</td>\n",
       "      <td>0.0</td>\n",
       "      <td>0.0</td>\n",
       "      <td>0.0</td>\n",
       "      <td>0.75</td>\n",
       "      <td>0.25</td>\n",
       "      <td>0.75</td>\n",
       "    </tr>\n",
       "  </tbody>\n",
       "</table>\n",
       "<p>21365 rows × 10 columns</p>\n",
       "</div>"
      ],
      "text/plain": [
       "       h1n1_concern  h1n1_knowledge  behavioral_wash_hands  \\\n",
       "24706      0.666667             0.5                    1.0   \n",
       "5393       0.666667             0.5                    1.0   \n",
       "20898      0.000000             0.5                    1.0   \n",
       "3429       0.333333             0.5                    0.0   \n",
       "8731       0.333333             0.0                    1.0   \n",
       "...             ...             ...                    ...   \n",
       "21575      0.666667             0.5                    1.0   \n",
       "5390       0.333333             0.5                    1.0   \n",
       "860        0.666667             0.5                    0.0   \n",
       "15795      0.666667             0.5                    1.0   \n",
       "23654      1.000000             0.5                    1.0   \n",
       "\n",
       "       behavioral_touch_face  doctor_recc_h1n1  chronic_med_condition  \\\n",
       "24706                    1.0               0.0                    1.0   \n",
       "5393                     1.0               0.0                    0.0   \n",
       "20898                    0.0               0.0                    0.0   \n",
       "3429                     0.0               0.0                    0.0   \n",
       "8731                     0.0               0.0                    0.0   \n",
       "...                      ...               ...                    ...   \n",
       "21575                    1.0               0.0                    0.0   \n",
       "5390                     1.0               0.0                    0.0   \n",
       "860                      1.0               0.0                    0.0   \n",
       "15795                    1.0               1.0                    1.0   \n",
       "23654                    1.0               0.0                    0.0   \n",
       "\n",
       "       health_worker  opinion_h1n1_vacc_effective  opinion_h1n1_risk  \\\n",
       "24706            0.0                         1.00               0.75   \n",
       "5393             0.0                         1.00               0.75   \n",
       "20898            0.0                         0.00               0.25   \n",
       "3429             0.0                         0.75               0.25   \n",
       "8731             0.0                         0.50               0.25   \n",
       "...              ...                          ...                ...   \n",
       "21575            0.0                         0.75               0.25   \n",
       "5390             0.0                         0.75               0.25   \n",
       "860              0.0                         0.75               0.25   \n",
       "15795            1.0                         0.00               0.00   \n",
       "23654            0.0                         0.75               0.25   \n",
       "\n",
       "       opinion_h1n1_sick_from_vacc  \n",
       "24706                         0.25  \n",
       "5393                          0.75  \n",
       "20898                         0.00  \n",
       "3429                          0.00  \n",
       "8731                          1.00  \n",
       "...                            ...  \n",
       "21575                         0.25  \n",
       "5390                          0.00  \n",
       "860                           0.25  \n",
       "15795                         0.75  \n",
       "23654                         0.75  \n",
       "\n",
       "[21365 rows x 10 columns]"
      ]
     },
     "execution_count": 62,
     "metadata": {},
     "output_type": "execute_result"
    }
   ],
   "source": [
    "features_df_new"
   ]
  },
  {
   "cell_type": "markdown",
   "metadata": {},
   "source": [
    "## Dummy Classifier"
   ]
  },
  {
   "cell_type": "code",
   "execution_count": 37,
   "metadata": {},
   "outputs": [
    {
     "name": "stdout",
     "output_type": "stream",
     "text": [
      "0.7884687383002621\n",
      "0.0\n"
     ]
    }
   ],
   "source": [
    "dummy = DummyClassifier(strategy='most_frequent')\n",
    "dummy.fit(X_train_trans, y_train)\n",
    "\n",
    "dummy_preds = dummy.predict(X_test_trans)\n",
    "\n",
    "print(accuracy_score(y_test, dummy_preds))\n",
    "print(precision_score(y_test, dummy_preds))"
   ]
  },
  {
   "cell_type": "code",
   "execution_count": 53,
   "metadata": {},
   "outputs": [
    {
     "name": "stdout",
     "output_type": "stream",
     "text": [
      "[[   0 5342]]\n"
     ]
    }
   ],
   "source": [
    "(unique, counts) = np.unique(dummy_preds, return_counts=True)\n",
    "\n",
    "frequencies = np.asarray((unique, counts)).T\n",
    "\n",
    "print(frequencies)"
   ]
  },
  {
   "cell_type": "markdown",
   "metadata": {},
   "source": [
    "## Decision Tree Gridsearch"
   ]
  },
  {
   "cell_type": "code",
   "execution_count": 13,
   "metadata": {},
   "outputs": [
    {
     "name": "stdout",
     "output_type": "stream",
     "text": [
      "[0 0 0 ... 0 0 0]\n"
     ]
    }
   ],
   "source": [
    "treepipe = Pipeline([\n",
    "    ('tree', DecisionTreeClassifier())\n",
    "])\n",
    "\n",
    "# Note you use the part of the pipeline's name `NAME__{parameter}`\n",
    "parameters = {\n",
    "    'tree__criterion': ['gini', 'entropy'],\n",
    "    'tree__max_depth': list(range(10)[1:]),\n",
    "    'tree__min_samples_leaf': list(range(10))[1:],\n",
    "    'tree__random_state': [42]\n",
    "}\n",
    "\n",
    "cv_tree = GridSearchCV(treepipe, param_grid=parameters, scoring='precision')\n",
    "\n",
    "cv_tree.fit(X_train_trans, y_train)\n",
    "y_pred_tree = cv_tree.predict(X_test_trans)\n",
    "print(y_pred_tree)"
   ]
  },
  {
   "cell_type": "code",
   "execution_count": 14,
   "metadata": {},
   "outputs": [
    {
     "data": {
      "text/plain": [
       "{'tree__criterion': 'gini',\n",
       " 'tree__max_depth': 2,\n",
       " 'tree__min_samples_leaf': 1,\n",
       " 'tree__random_state': 42}"
      ]
     },
     "execution_count": 14,
     "metadata": {},
     "output_type": "execute_result"
    }
   ],
   "source": [
    "cv_tree.best_params_"
   ]
  },
  {
   "cell_type": "code",
   "execution_count": 15,
   "metadata": {},
   "outputs": [
    {
     "data": {
      "text/plain": [
       "0.6885314980379216"
      ]
     },
     "execution_count": 15,
     "metadata": {},
     "output_type": "execute_result"
    }
   ],
   "source": [
    "cv_tree.best_score_"
   ]
  },
  {
   "cell_type": "code",
   "execution_count": 16,
   "metadata": {},
   "outputs": [
    {
     "data": {
      "text/plain": [
       "0.8260950954698615"
      ]
     },
     "execution_count": 16,
     "metadata": {},
     "output_type": "execute_result"
    }
   ],
   "source": [
    "accuracy_score(y_test, y_pred_tree)"
   ]
  },
  {
   "cell_type": "markdown",
   "metadata": {},
   "source": [
    "## Logistic Gridsearch"
   ]
  },
  {
   "cell_type": "code",
   "execution_count": 18,
   "metadata": {},
   "outputs": [
    {
     "name": "stdout",
     "output_type": "stream",
     "text": [
      "[0 0 0 ... 1 0 0]\n"
     ]
    }
   ],
   "source": [
    "logpipe = Pipeline([\n",
    "    ('logistic', LogisticRegression())\n",
    "])\n",
    "\n",
    "# Note you use the part of the pipeline's name `NAME__{parameter}`\n",
    "parameters = {\n",
    "    'logistic__C': [1, 10, 100, 1000, 10000, 100000],\n",
    "    'logistic__class_weight': [None, 'balanced'],\n",
    "    'logistic__random_state': [42]\n",
    "}\n",
    "\n",
    "cv_log = GridSearchCV(logpipe, param_grid=parameters, scoring='precision')\n",
    "\n",
    "cv_log.fit(X_train_trans, y_train)\n",
    "y_pred_log = cv_log.predict(X_test_trans)\n",
    "print(y_pred_log)"
   ]
  },
  {
   "cell_type": "code",
   "execution_count": 52,
   "metadata": {},
   "outputs": [
    {
     "name": "stdout",
     "output_type": "stream",
     "text": [
      "[[   0 5051]\n",
      " [   1  291]]\n"
     ]
    }
   ],
   "source": [
    "(unique, counts) = np.unique(y_pred_log, return_counts=True)\n",
    "\n",
    "frequencies = np.asarray((unique, counts)).T\n",
    "\n",
    "print(frequencies)"
   ]
  },
  {
   "cell_type": "code",
   "execution_count": 19,
   "metadata": {},
   "outputs": [
    {
     "data": {
      "text/plain": [
       "{'logistic__C': 1,\n",
       " 'logistic__class_weight': None,\n",
       " 'logistic__random_state': 42}"
      ]
     },
     "execution_count": 19,
     "metadata": {},
     "output_type": "execute_result"
    }
   ],
   "source": [
    "cv_log.best_params_"
   ]
  },
  {
   "cell_type": "code",
   "execution_count": 20,
   "metadata": {},
   "outputs": [
    {
     "data": {
      "text/plain": [
       "0.6812667659379484"
      ]
     },
     "execution_count": 20,
     "metadata": {},
     "output_type": "execute_result"
    }
   ],
   "source": [
    "cv_log.best_score_"
   ]
  },
  {
   "cell_type": "markdown",
   "metadata": {},
   "source": [
    "## KNN Gridsearch"
   ]
  },
  {
   "cell_type": "code",
   "execution_count": 27,
   "metadata": {},
   "outputs": [
    {
     "name": "stdout",
     "output_type": "stream",
     "text": [
      "[0 0 0 ... 0 0 0]\n"
     ]
    }
   ],
   "source": [
    "knnpipe = Pipeline([\n",
    "    ('KNN', KNeighborsClassifier())\n",
    "])\n",
    "\n",
    "# Note you use the part of the pipeline's name `NAME__{parameter}`\n",
    "parameters = {\n",
    "    'KNN__n_neighbors': [7, 9, 11, 13, 15]\n",
    "}\n",
    "\n",
    "cv_knn = GridSearchCV(knnpipe, param_grid=parameters, scoring='precision')\n",
    "\n",
    "cv_knn.fit(X_train_trans, y_train)\n",
    "y_pred_knn = cv_knn.predict(X_test_trans)\n",
    "print(y_pred_knn)"
   ]
  },
  {
   "cell_type": "code",
   "execution_count": 51,
   "metadata": {},
   "outputs": [
    {
     "name": "stdout",
     "output_type": "stream",
     "text": [
      "[[   0 5110]\n",
      " [   1  232]]\n"
     ]
    }
   ],
   "source": [
    "(unique, counts) = np.unique(y_pred_knn, return_counts=True)\n",
    "\n",
    "frequencies = np.asarray((unique, counts)).T\n",
    "\n",
    "print(frequencies)"
   ]
  },
  {
   "cell_type": "code",
   "execution_count": 25,
   "metadata": {},
   "outputs": [
    {
     "data": {
      "text/plain": [
       "{'KNN__n_neighbors': 11}"
      ]
     },
     "execution_count": 25,
     "metadata": {},
     "output_type": "execute_result"
    }
   ],
   "source": [
    "cv_knn.best_params_"
   ]
  },
  {
   "cell_type": "code",
   "execution_count": 26,
   "metadata": {},
   "outputs": [
    {
     "data": {
      "text/plain": [
       "0.6495931766409934"
      ]
     },
     "execution_count": 26,
     "metadata": {},
     "output_type": "execute_result"
    }
   ],
   "source": [
    "cv_knn.best_score_"
   ]
  },
  {
   "cell_type": "markdown",
   "metadata": {},
   "source": [
    "## Forest Gridsearch"
   ]
  },
  {
   "cell_type": "code",
   "execution_count": 42,
   "metadata": {},
   "outputs": [],
   "source": [
    "import warnings\n",
    "warnings.filterwarnings('ignore')  # \"error\", \"ignore\", \"always\", \"default\", \"module\" or \"once\""
   ]
  },
  {
   "cell_type": "code",
   "execution_count": 43,
   "metadata": {},
   "outputs": [
    {
     "name": "stdout",
     "output_type": "stream",
     "text": [
      "[0 0 0 ... 0 0 0]\n"
     ]
    }
   ],
   "source": [
    "forestpipe = Pipeline([\n",
    "    ('forest', RandomForestClassifier())\n",
    "])\n",
    "\n",
    "# Note you use the part of the pipeline's name `NAME__{parameter}`\n",
    "parameters = {\n",
    "    'forest__n_estimators': [25, 50, 100, 150],\n",
    "    'forest__criterion': ['gini', 'entropy', 'log_loss'],\n",
    "    'forest__max_depth': list(range(5)[1:]),\n",
    "    'forest__random_state': [42]\n",
    "}\n",
    "\n",
    "cv_forest = GridSearchCV(forestpipe, param_grid=parameters, scoring='precision')\n",
    "\n",
    "cv_forest.fit(X_train_trans, y_train)\n",
    "y_pred_forest = cv_forest.predict(X_test_trans)\n",
    "print(y_pred_forest)"
   ]
  },
  {
   "cell_type": "code",
   "execution_count": 48,
   "metadata": {},
   "outputs": [
    {
     "name": "stdout",
     "output_type": "stream",
     "text": [
      "[[   0 5315]\n",
      " [   1   27]]\n"
     ]
    }
   ],
   "source": [
    "(unique, counts) = np.unique(y_pred_forest, return_counts=True)\n",
    "\n",
    "frequencies = np.asarray((unique, counts)).T\n",
    "\n",
    "print(frequencies)"
   ]
  },
  {
   "cell_type": "code",
   "execution_count": 39,
   "metadata": {},
   "outputs": [
    {
     "data": {
      "text/plain": [
       "{'forest__criterion': 'entropy',\n",
       " 'forest__max_depth': 3,\n",
       " 'forest__n_estimators': 50,\n",
       " 'forest__random_state': 42}"
      ]
     },
     "execution_count": 39,
     "metadata": {},
     "output_type": "execute_result"
    }
   ],
   "source": [
    "cv_forest.best_params_"
   ]
  },
  {
   "cell_type": "code",
   "execution_count": 40,
   "metadata": {},
   "outputs": [
    {
     "data": {
      "text/plain": [
       "0.885024154589372"
      ]
     },
     "execution_count": 40,
     "metadata": {},
     "output_type": "execute_result"
    }
   ],
   "source": [
    "cv_forest.best_score_"
   ]
  },
  {
   "cell_type": "code",
   "execution_count": 41,
   "metadata": {},
   "outputs": [
    {
     "data": {
      "text/plain": [
       "0.7927742418569824"
      ]
     },
     "execution_count": 41,
     "metadata": {},
     "output_type": "execute_result"
    }
   ],
   "source": [
    "accuracy_score(y_test, y_pred_forest)"
   ]
  },
  {
   "cell_type": "code",
   "execution_count": null,
   "metadata": {},
   "outputs": [],
   "source": []
  }
 ],
 "metadata": {
  "kernelspec": {
   "display_name": "Python (learn-env)",
   "language": "python",
   "name": "learn-env"
  },
  "language_info": {
   "codemirror_mode": {
    "name": "ipython",
    "version": 3
   },
   "file_extension": ".py",
   "mimetype": "text/x-python",
   "name": "python",
   "nbconvert_exporter": "python",
   "pygments_lexer": "ipython3",
   "version": "3.8.5"
  }
 },
 "nbformat": 4,
 "nbformat_minor": 4
}
